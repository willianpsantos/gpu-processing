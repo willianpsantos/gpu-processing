{
  "nbformat": 4,
  "nbformat_minor": 0,
  "metadata": {
    "colab": {
      "provenance": [],
      "gpuType": "T4",
      "include_colab_link": true
    },
    "kernelspec": {
      "name": "python3",
      "display_name": "Python 3"
    },
    "language_info": {
      "name": "python"
    },
    "accelerator": "GPU"
  },
  "cells": [
    {
      "cell_type": "markdown",
      "metadata": {
        "id": "view-in-github",
        "colab_type": "text"
      },
      "source": [
        "<a href=\"https://colab.research.google.com/github/willianpsantos/gpu-processing/blob/main/gpu_formula_processing.ipynb\" target=\"_parent\"><img src=\"https://colab.research.google.com/assets/colab-badge.svg\" alt=\"Open In Colab\"/></a>"
      ]
    },
    {
      "cell_type": "code",
      "execution_count": 2,
      "metadata": {
        "id": "kb7n3JC1CHbW",
        "colab": {
          "base_uri": "https://localhost:8080/"
        },
        "outputId": "02a49da2-d34b-44a6-947a-5d0e419b1acc"
      },
      "outputs": [
        {
          "output_type": "stream",
          "name": "stdout",
          "text": [
            "Cloning into 'rapidsai-csp-utils'...\n",
            "remote: Enumerating objects: 553, done.\u001b[K\n",
            "remote: Counting objects: 100% (284/284), done.\u001b[K\n",
            "remote: Compressing objects: 100% (182/182), done.\u001b[K\n",
            "remote: Total 553 (delta 179), reused 147 (delta 100), pack-reused 269 (from 1)\u001b[K\n",
            "Receiving objects: 100% (553/553), 178.44 KiB | 14.87 MiB/s, done.\n",
            "Resolving deltas: 100% (281/281), done.\n"
          ]
        }
      ],
      "source": [
        "!git clone https://github.com/rapidsai/rapidsai-csp-utils.git"
      ]
    },
    {
      "cell_type": "code",
      "source": [
        "!pip3 install --upgrade pip"
      ],
      "metadata": {
        "id": "isrj4_V1LQwN",
        "colab": {
          "base_uri": "https://localhost:8080/"
        },
        "outputId": "a05d7c4a-9aae-4de5-c6c6-8f148a274c4e"
      },
      "execution_count": 3,
      "outputs": [
        {
          "output_type": "stream",
          "name": "stdout",
          "text": [
            "Requirement already satisfied: pip in /usr/local/lib/python3.10/dist-packages (24.1.2)\n",
            "Collecting pip\n",
            "  Downloading pip-24.3.1-py3-none-any.whl.metadata (3.7 kB)\n",
            "Downloading pip-24.3.1-py3-none-any.whl (1.8 MB)\n",
            "\u001b[2K   \u001b[90m━━━━━━━━━━━━━━━━━━━━━━━━━━━━━━━━━━━━━━━━\u001b[0m \u001b[32m1.8/1.8 MB\u001b[0m \u001b[31m45.6 MB/s\u001b[0m eta \u001b[36m0:00:00\u001b[0m\n",
            "\u001b[?25hInstalling collected packages: pip\n",
            "  Attempting uninstall: pip\n",
            "    Found existing installation: pip 24.1.2\n",
            "    Uninstalling pip-24.1.2:\n",
            "      Successfully uninstalled pip-24.1.2\n",
            "Successfully installed pip-24.3.1\n"
          ]
        }
      ]
    },
    {
      "cell_type": "code",
      "source": [
        "!python3 /content/rapidsai-csp-utils/colab/pip-install.py"
      ],
      "metadata": {
        "id": "nLFH0pLVMBFl",
        "colab": {
          "base_uri": "https://localhost:8080/"
        },
        "outputId": "7063149e-4441-492b-f69d-2ed544065ae2"
      },
      "execution_count": 4,
      "outputs": [
        {
          "output_type": "stream",
          "name": "stdout",
          "text": [
            "Collecting pynvml\n",
            "  Downloading pynvml-12.0.0-py3-none-any.whl.metadata (5.4 kB)\n",
            "Collecting nvidia-ml-py<13.0.0a0,>=12.0.0 (from pynvml)\n",
            "  Downloading nvidia_ml_py-12.560.30-py3-none-any.whl.metadata (8.6 kB)\n",
            "Downloading pynvml-12.0.0-py3-none-any.whl (26 kB)\n",
            "Downloading nvidia_ml_py-12.560.30-py3-none-any.whl (40 kB)\n",
            "Installing collected packages: nvidia-ml-py, pynvml\n",
            "Successfully installed nvidia-ml-py-12.560.30 pynvml-12.0.0\n",
            "Traceback (most recent call last):\n",
            "  File \"/usr/local/lib/python3.10/dist-packages/pynvml.py\", line 2248, in _LoadNvmlLibrary\n",
            "    nvmlLib = CDLL(\"libnvidia-ml.so.1\")\n",
            "  File \"/usr/lib/python3.10/ctypes/__init__.py\", line 374, in __init__\n",
            "    self._handle = _dlopen(self._name, mode)\n",
            "OSError: libnvidia-ml.so.1: cannot open shared object file: No such file or directory\n",
            "\n",
            "During handling of the above exception, another exception occurred:\n",
            "\n",
            "Traceback (most recent call last):\n",
            "  File \"/content/rapidsai-csp-utils/colab/pip-install.py\", line 18, in <module>\n",
            "    pynvml.nvmlInit()\n",
            "  File \"/usr/local/lib/python3.10/dist-packages/pynvml.py\", line 2220, in nvmlInit\n",
            "    nvmlInitWithFlags(0)\n",
            "  File \"/usr/local/lib/python3.10/dist-packages/pynvml.py\", line 2203, in nvmlInitWithFlags\n",
            "    _LoadNvmlLibrary()\n",
            "  File \"/usr/local/lib/python3.10/dist-packages/pynvml.py\", line 2250, in _LoadNvmlLibrary\n",
            "    _nvmlCheckReturn(NVML_ERROR_LIBRARY_NOT_FOUND)\n",
            "  File \"/usr/local/lib/python3.10/dist-packages/pynvml.py\", line 979, in _nvmlCheckReturn\n",
            "    raise NVMLError(ret)\n",
            "pynvml.NVMLError_LibraryNotFound: NVML Shared Library Not Found\n",
            "\n",
            "During handling of the above exception, another exception occurred:\n",
            "\n",
            "Traceback (most recent call last):\n",
            "  File \"/content/rapidsai-csp-utils/colab/pip-install.py\", line 20, in <module>\n",
            "    raise Exception(\"\"\"\n",
            "Exception: \n",
            "                  Unfortunately you're in a Colab instance that doesn't have a GPU.\n",
            "\n",
            "                  Please make sure you've configured Colab to request a GPU Instance Type.\n",
            "\n",
            "                  Go to 'Runtime -> Change Runtime Type --> under the Hardware Accelerator, select GPU', then try again.\n"
          ]
        }
      ]
    },
    {
      "cell_type": "code",
      "source": [
        "import cudf as pd\n",
        "from numba import cuda\n",
        "\n",
        "df = pd.read_csv('/content/gpu_data/MAIN_TABLE_TO_PROCESS.csv', ';')"
      ],
      "metadata": {
        "id": "cPYvM6k3tW0C"
      },
      "execution_count": null,
      "outputs": []
    },
    {
      "cell_type": "code",
      "source": [
        "df_additional_measures = pd.read_csv('/content/gpu_data/ADDITIONAL_MEASURES.csv', ';')\n",
        "df_additional_tw_measures = pd.read_csv('/content/gpu_data/ADDITIONAL_TOWERCO_MEASURES.csv', ';')\n",
        "df_exchange_rates = pd.read_csv('/content/gpu_data/EXCHANGE_RATE.csv', ';')\n",
        "df_general_measures = pd.read_csv('/content/gpu_data/GENERAL_MEASURES.csv', ';')\n",
        "df_leg_for_lookup_codes = pd.read_csv('/content/gpu_data/LEGEND_FOR_LOOKUP_CODES.csv', ';')\n",
        "\n",
        "joint_gm_names = ','.join(list(df_general_measures['MEASURE_TYPE'].astype(str).values_host))\n",
        "joint_gm_values = ','.join(list(df_general_measures['MEASURE_VALUE'].astype(str).values_host))\n",
        "joint_am_names = ','.join(list(df_additional_measures['MEASURE_TYPE'].astype(str).values_host))\n",
        "joint_am_values = ','.join(list(df_additional_measures['MEASURE_VALUE'].astype(str).values_host))\n",
        "joint_tw_names = ','.join(list(df_additional_tw_measures['MEASURE_TYPE'].astype(str).values_host))\n",
        "joint_tw_values = ','.join(list(df_additional_tw_measures['MEASURE_VALUE'].astype(str).values_host))\n",
        "\n",
        "df['general_measures_names'] = joint_gm_names\n",
        "df['general_measures_values'] = joint_gm_values\n",
        "df['additional_measures_names'] = joint_am_names\n",
        "df['additional_measures_values'] = joint_am_values\n",
        "df['additional_tw_measures_names'] = joint_tw_names\n",
        "df['additional_tw_measures_values'] = joint_tw_values\n",
        "\n",
        "def replace_formula_usd_kernel(row):\n",
        "    replaced_formula = row['Formula_USD']\n",
        "\n",
        "    general_measures_names = row['general_measures_names']\n",
        "    general_measures_values = row['general_measures_values']\n",
        "    additional_measures_names = row['additional_measures_names']\n",
        "    additional_measures_values = row['additional_measures_values']\n",
        "    additional_tw_measures_names = row['additional_tw_measures_names']\n",
        "    additional_tw_measures_values = row['additional_tw_measures_values']\n",
        "\n",
        "    arr_general_measures_names = general_measures_names.split(',')\n",
        "    arr_general_measures_values = general_measures_values.split(',')\n",
        "    arr_additional_measures_names = additional_measures_names.split(',')\n",
        "    arr_additional_measures_values = additional_measures_values.split(',')\n",
        "    arr_additional_tw_measures_names = additional_tw_measures_names.split(',')\n",
        "    arr_additional_tw_measures_values = additional_tw_measures_values.split(',')\n",
        "\n",
        "    for i in range(len(arr_general_measures_names)):\n",
        "      measure_type = '@' + arr_general_measures_names[i];\n",
        "\n",
        "      if replaced_formula.contains(measure_type):\n",
        "        replaced_formula = replaced_formula.replace(measure_type, arr_general_measures_values[i])\n",
        "\n",
        "    for i in range(len(arr_additional_measures_names)):\n",
        "      measure_type = '@' + arr_additional_measures_names[i];\n",
        "\n",
        "      if replaced_formula.contains(measure_type):\n",
        "        replaced_formula = replaced_formula.replace(measure_type, arr_additional_measures_values[i])\n",
        "\n",
        "    for i in range(len(arr_additional_tw_measures_names)):\n",
        "      measure_type = '@' + arr_additional_tw_measures_names[i];\n",
        "\n",
        "      if replaced_formula.contains(measure_type):\n",
        "          replaced_formula = replaced_formula.replace(measure_type, arr_additional_tw_measures_values[i])\n",
        "\n",
        "    return replaced_formula\n",
        "\n",
        "\n",
        "df['Updated_Formula_USD'] = df.apply(replace_formula_usd_kernel, axis=1)"
      ],
      "metadata": {
        "colab": {
          "base_uri": "https://localhost:8080/",
          "height": 211
        },
        "id": "jF_DGge7zokU",
        "outputId": "c2726012-23f3-4cb3-dbd4-3804b254d92f"
      },
      "execution_count": 1,
      "outputs": [
        {
          "output_type": "error",
          "ename": "NameError",
          "evalue": "name 'pd' is not defined",
          "traceback": [
            "\u001b[0;31m---------------------------------------------------------------------------\u001b[0m",
            "\u001b[0;31mNameError\u001b[0m                                 Traceback (most recent call last)",
            "\u001b[0;32m<ipython-input-1-eebcd77bcb11>\u001b[0m in \u001b[0;36m<cell line: 1>\u001b[0;34m()\u001b[0m\n\u001b[0;32m----> 1\u001b[0;31m \u001b[0mdf_additional_measures\u001b[0m \u001b[0;34m=\u001b[0m \u001b[0mpd\u001b[0m\u001b[0;34m.\u001b[0m\u001b[0mread_csv\u001b[0m\u001b[0;34m(\u001b[0m\u001b[0;34m'/content/gpu_data/ADDITIONAL_MEASURES.csv'\u001b[0m\u001b[0;34m,\u001b[0m \u001b[0;34m';'\u001b[0m\u001b[0;34m)\u001b[0m\u001b[0;34m\u001b[0m\u001b[0;34m\u001b[0m\u001b[0m\n\u001b[0m\u001b[1;32m      2\u001b[0m \u001b[0mdf_additional_tw_measures\u001b[0m \u001b[0;34m=\u001b[0m \u001b[0mpd\u001b[0m\u001b[0;34m.\u001b[0m\u001b[0mread_csv\u001b[0m\u001b[0;34m(\u001b[0m\u001b[0;34m'/content/gpu_data/ADDITIONAL_TOWERCO_MEASURES.csv'\u001b[0m\u001b[0;34m,\u001b[0m \u001b[0;34m';'\u001b[0m\u001b[0;34m)\u001b[0m\u001b[0;34m\u001b[0m\u001b[0;34m\u001b[0m\u001b[0m\n\u001b[1;32m      3\u001b[0m \u001b[0mdf_exchange_rates\u001b[0m \u001b[0;34m=\u001b[0m \u001b[0mpd\u001b[0m\u001b[0;34m.\u001b[0m\u001b[0mread_csv\u001b[0m\u001b[0;34m(\u001b[0m\u001b[0;34m'/content/gpu_data/EXCHANGE_RATE.csv'\u001b[0m\u001b[0;34m,\u001b[0m \u001b[0;34m';'\u001b[0m\u001b[0;34m)\u001b[0m\u001b[0;34m\u001b[0m\u001b[0;34m\u001b[0m\u001b[0m\n\u001b[1;32m      4\u001b[0m \u001b[0mdf_general_measures\u001b[0m \u001b[0;34m=\u001b[0m \u001b[0mpd\u001b[0m\u001b[0;34m.\u001b[0m\u001b[0mread_csv\u001b[0m\u001b[0;34m(\u001b[0m\u001b[0;34m'/content/gpu_data/GENERAL_MEASURES.csv'\u001b[0m\u001b[0;34m,\u001b[0m \u001b[0;34m';'\u001b[0m\u001b[0;34m)\u001b[0m\u001b[0;34m\u001b[0m\u001b[0;34m\u001b[0m\u001b[0m\n\u001b[1;32m      5\u001b[0m \u001b[0mdf_leg_for_lookup_codes\u001b[0m \u001b[0;34m=\u001b[0m \u001b[0mpd\u001b[0m\u001b[0;34m.\u001b[0m\u001b[0mread_csv\u001b[0m\u001b[0;34m(\u001b[0m\u001b[0;34m'/content/gpu_data/LEGEND_FOR_LOOKUP_CODES.csv'\u001b[0m\u001b[0;34m,\u001b[0m \u001b[0;34m';'\u001b[0m\u001b[0;34m)\u001b[0m\u001b[0;34m\u001b[0m\u001b[0;34m\u001b[0m\u001b[0m\n",
            "\u001b[0;31mNameError\u001b[0m: name 'pd' is not defined"
          ]
        }
      ]
    }
  ]
}